{
 "cells": [
  {
   "cell_type": "code",
   "execution_count": 1,
   "id": "4b1620e8-faeb-4402-95e4-c9df02479b3f",
   "metadata": {},
   "outputs": [
    {
     "data": {
      "text/plain": [
       "'2.3.1+cu121'"
      ]
     },
     "execution_count": 1,
     "metadata": {},
     "output_type": "execute_result"
    }
   ],
   "source": [
    "import torch\n",
    "torch.__version__"
   ]
  },
  {
   "cell_type": "code",
   "execution_count": 4,
   "id": "c58a03e8-c1d3-4297-baae-abc933e16f45",
   "metadata": {},
   "outputs": [],
   "source": [
    "with open('input.txt','r', encoding='utf-8') as f:\n",
    "    text = f.read()"
   ]
  },
  {
   "cell_type": "code",
   "execution_count": 7,
   "id": "70ce7037",
   "metadata": {},
   "outputs": [
    {
     "name": "stdout",
     "output_type": "stream",
     "text": [
      "\n",
      " !$&',-.3:;?ABCDEFGHIJKLMNOPQRSTUVWXYZabcdefghijklmnopqrstuvwxyz\n",
      "65\n"
     ]
    }
   ],
   "source": [
    "# here are all the unique characters that occur in this text\n",
    "chars = sorted(list(set(text)))\n",
    "vocab_size = len(chars)\n",
    "print(''.join(chars))\n",
    "print(vocab_size)"
   ]
  },
  {
   "cell_type": "code",
   "execution_count": 8,
   "id": "7397034c",
   "metadata": {},
   "outputs": [
    {
     "name": "stdout",
     "output_type": "stream",
     "text": [
      "[46, 47, 47, 1, 58, 46, 43, 56, 43]\n",
      "hii there\n"
     ]
    }
   ],
   "source": [
    "stoi = { ch:i for i,ch in enumerate(chars) }\n",
    "itos = { i:ch for i,ch in enumerate(chars) }\n",
    "encode = lambda s: [stoi[c] for c in s] # encoder: take a string, output a list of integers\n",
    "decode = lambda l: ''.join([itos[i] for i in l]) # decoder: take a list of integers, output a string\n",
    "\n",
    "print(encode(\"hii there\"))\n",
    "print(decode(encode(\"hii there\")))\n"
   ]
  },
  {
   "cell_type": "code",
   "execution_count": 9,
   "id": "5e63e17c",
   "metadata": {},
   "outputs": [],
   "source": [
    "data = torch.tensor(encode(text), dtype=torch.long)\n",
    "n = int(0.9*len(data))\n",
    "train_data = data[:n]\n",
    "val_data = data[n:]"
   ]
  },
  {
   "cell_type": "code",
   "execution_count": 10,
   "id": "d6c6aca3",
   "metadata": {},
   "outputs": [
    {
     "name": "stdout",
     "output_type": "stream",
     "text": [
      "inputs:\n",
      "torch.Size([4, 8])\n",
      "tensor([[31, 43, 56, 60, 39, 52, 58, 10],\n",
      "        [59, 56,  1, 44, 53, 43,  8,  0],\n",
      "        [ 0,  0, 19, 30, 33, 25, 21, 27],\n",
      "        [58, 46,  1, 61, 53, 43,  8,  0]])\n",
      "targets:\n",
      "torch.Size([4, 8])\n",
      "tensor([[43, 56, 60, 39, 52, 58, 10,  0],\n",
      "        [56,  1, 44, 53, 43,  8,  0,  0],\n",
      "        [ 0, 19, 30, 33, 25, 21, 27, 10],\n",
      "        [46,  1, 61, 53, 43,  8,  0,  0]])\n"
     ]
    }
   ],
   "source": [
    "batch_size = 4 # how many independent sequences will we process in parallel?\n",
    "block_size = 8 # what is the maximum context length for predictions?\n",
    "\n",
    "def get_batch(split):\n",
    "    data = train_data if split ==\"train\" else val_data\n",
    "    ix = torch.randint(len(data)-block_size, (batch_size,))\n",
    "    x = torch.stack([data[i:i+block_size] for i in ix])\n",
    "    y = torch.stack([data[i+1:i+block_size+1] for i in ix])\n",
    "    return x, y\n",
    "\n",
    "xb, yb = get_batch('train')\n",
    "print('inputs:')\n",
    "print(xb.shape)\n",
    "print(xb)\n",
    "print('targets:')\n",
    "print(yb.shape)\n",
    "print(yb)\n"
   ]
  },
  {
   "cell_type": "code",
   "execution_count": 18,
   "id": "9d05b353-22e5-4ba4-85da-676fdc6ee2c3",
   "metadata": {},
   "outputs": [],
   "source": [
    "from torch import nn\n",
    "from torch.nn import functional as F\n",
    "torch.manual_seed(1337)\n",
    "\n",
    "class BigramModel(nn.Module):\n",
    "    def __init__(self, vocab_size):\n",
    "        super().__init__()\n",
    "        self.token_embedding_table = nn.Embedding(vocab_size, vocab_size)\n",
    "    \n",
    "    def forward(self, idx, targets=None):\n",
    "        # idx and targets is a tensor of shape (batch_size, seq_len) or (B,T)\n",
    "        logits = self.token_embedding_table(idx) #(B,T,C)\n",
    "\n",
    "        if targets==None:\n",
    "            loss = None\n",
    "        else:\n",
    "            B, T, C = logits.shape\n",
    "            # reshaping for calculating the loss\n",
    "            logits = logits.view(-1, C) # or (B*T, C)\n",
    "            targets = targets.view(-1) # or (B*T,)\n",
    "            loss = F.cross_entropy(logits, targets)\n",
    "\n",
    "        return logits, loss\n",
    "    def generate(self, idx, max_tokens):\n",
    "        # idx is a tensor of shape (batch_size, seq_len) or (B,T)\n",
    "        for _ in range(max_tokens):\n",
    "            # get the predictions\n",
    "            logits, loss = self(idx)\n",
    "            # focus only on the last time step\n",
    "            logits = logits[:, -1, :] # becomes (B, C)\n",
    "            # apply softmax to get probabilities\n",
    "            probs = F.softmax(logits, dim=-1) # (B, C)\n",
    "            # sample from the distribution\n",
    "            idx_next = torch.multinomial(probs, num_samples=1) # (B, 1)\n",
    "            # append sampled index to the running sequence\n",
    "            idx = torch.cat((idx, idx_next), dim=1) # (B, T+1)\n",
    "        return idx"
   ]
  },
  {
   "cell_type": "code",
   "execution_count": 21,
   "id": "30de5ac7",
   "metadata": {},
   "outputs": [
    {
     "name": "stdout",
     "output_type": "stream",
     "text": [
      "torch.Size([])\n",
      "tensor(4.5247, grad_fn=<NllLossBackward0>)\n",
      "\n",
      ",E&!&N$WatTc3?qSHTpHCki3s\n",
      "pamUPNXfrnf&!tWvz?vn&NrPiCROWJngHpt!h\n",
      "kDSHw. iw.XXMTcOek\n",
      ",$eyUGbwECZhwFNFH\n"
     ]
    }
   ],
   "source": [
    "m = BigramModel(vocab_size)\n",
    "logits, loss = m(xb, yb)\n",
    "print(loss.shape)\n",
    "print(loss)\n",
    "\n",
    "res = m.generate(idx = torch.zeros((1,1), dtype=torch.long), max_tokens = 100)\n",
    "print(decode(res[0].tolist()))"
   ]
  },
  {
   "cell_type": "code",
   "execution_count": 25,
   "id": "643ad2b2",
   "metadata": {},
   "outputs": [
    {
     "name": "stdout",
     "output_type": "stream",
     "text": [
      "step: 0  loss: 2.4623334407806396\n",
      "step: 1000  loss: 2.5555975437164307\n",
      "step: 2000  loss: 2.4037024974823\n",
      "step: 3000  loss: 2.4166741371154785\n",
      "step: 4000  loss: 2.400641679763794\n",
      "step: 5000  loss: 2.43243670463562\n",
      "step: 6000  loss: 2.5376839637756348\n",
      "step: 7000  loss: 2.4350857734680176\n",
      "step: 8000  loss: 2.4135007858276367\n",
      "step: 9000  loss: 2.4512810707092285\n",
      "2.4195501804351807\n"
     ]
    }
   ],
   "source": [
    "optimizer = torch.optim.AdamW(m.parameters(), lr=1e-3)\n",
    "batch_size = 32\n",
    "\n",
    "for i  in range(10000):\n",
    "    xb, yb = get_batch('train')\n",
    "    logits, loss = m(xb, yb)\n",
    "    optimizer.zero_grad()\n",
    "    loss.backward()\n",
    "    optimizer.step()\n",
    "    if i%1000==0:\n",
    "        print(f'step: {i}  loss: {loss.item()}')\n",
    "print(loss.item())\n"
   ]
  },
  {
   "cell_type": "code",
   "execution_count": 27,
   "id": "093e8fd6",
   "metadata": {},
   "outputs": [
    {
     "name": "stdout",
     "output_type": "stream",
     "text": [
      "\n",
      "HARThesma?\n",
      "Whelknthistlur Rorate.'s h wavel wsave he;\n",
      "Thendse nd a if amisoupl nlls it,\n",
      "Grer IULAncidenare ordimyse oomaulitus efo wo'exWhes darken alllf e y se ht laly.\n",
      "\n",
      "ICHENICI k?\n",
      "ES: ho t 'Pre h p\n"
     ]
    }
   ],
   "source": [
    "idx = torch.zeros((1,1), dtype=torch.long)\n",
    "print(decode(m.generate(idx,200)[0].tolist()))"
   ]
  },
  {
   "cell_type": "markdown",
   "id": "605b69b3",
   "metadata": {
    "slideshow": {
     "slide_type": "notes"
    }
   },
   "source": [
    "## Mathamatical trick of self-attention\n",
    "- here we will be using matrix multiplication to find the average\n",
    "- input matrix will have an extra element in each line"
   ]
  },
  {
   "cell_type": "code",
   "execution_count": 26,
   "id": "d5b8401f",
   "metadata": {},
   "outputs": [
    {
     "name": "stdout",
     "output_type": "stream",
     "text": [
      "a=\n",
      "tensor([[1.0000, 0.0000, 0.0000],\n",
      "        [0.5000, 0.5000, 0.0000],\n",
      "        [0.3333, 0.3333, 0.3333]])\n",
      "--\n",
      "b=\n",
      "tensor([[2., 7.],\n",
      "        [6., 4.],\n",
      "        [6., 5.]])\n",
      "--\n",
      "c=\n",
      "tensor([[2.0000, 7.0000],\n",
      "        [4.0000, 5.5000],\n",
      "        [4.6667, 5.3333]])\n"
     ]
    }
   ],
   "source": [
    "torch.manual_seed(42)\n",
    "a = torch.ones(3,3)\n",
    "a = torch.tril(a)\n",
    "a = a/torch.sum(a,1,keepdim=True)\n",
    "b = torch.randint(0,10, (3,2)).float()\n",
    "c = a @ b\n",
    "print('a=')\n",
    "print(a)\n",
    "print('--')\n",
    "print('b=')\n",
    "print(b)\n",
    "print('--')\n",
    "print('c=')\n",
    "print(c)"
   ]
  },
  {
   "cell_type": "code",
   "execution_count": 38,
   "id": "05907d04",
   "metadata": {},
   "outputs": [
    {
     "name": "stdout",
     "output_type": "stream",
     "text": [
      "tensor([[0., -inf, -inf, -inf, -inf, -inf, -inf, -inf],\n",
      "        [0., 0., -inf, -inf, -inf, -inf, -inf, -inf],\n",
      "        [0., 0., 0., -inf, -inf, -inf, -inf, -inf],\n",
      "        [0., 0., 0., 0., -inf, -inf, -inf, -inf],\n",
      "        [0., 0., 0., 0., 0., -inf, -inf, -inf],\n",
      "        [0., 0., 0., 0., 0., 0., -inf, -inf],\n",
      "        [0., 0., 0., 0., 0., 0., 0., -inf],\n",
      "        [0., 0., 0., 0., 0., 0., 0., 0.]]) \n",
      "\n",
      "\n",
      "tensor([[1.0000, 0.0000, 0.0000, 0.0000, 0.0000, 0.0000, 0.0000, 0.0000],\n",
      "        [0.5000, 0.5000, 0.0000, 0.0000, 0.0000, 0.0000, 0.0000, 0.0000],\n",
      "        [0.3333, 0.3333, 0.3333, 0.0000, 0.0000, 0.0000, 0.0000, 0.0000],\n",
      "        [0.2500, 0.2500, 0.2500, 0.2500, 0.0000, 0.0000, 0.0000, 0.0000],\n",
      "        [0.2000, 0.2000, 0.2000, 0.2000, 0.2000, 0.0000, 0.0000, 0.0000],\n",
      "        [0.1667, 0.1667, 0.1667, 0.1667, 0.1667, 0.1667, 0.0000, 0.0000],\n",
      "        [0.1429, 0.1429, 0.1429, 0.1429, 0.1429, 0.1429, 0.1429, 0.0000],\n",
      "        [0.1250, 0.1250, 0.1250, 0.1250, 0.1250, 0.1250, 0.1250, 0.1250]])\n"
     ]
    },
    {
     "name": "stderr",
     "output_type": "stream",
     "text": [
      "C:\\Users\\tasli\\AppData\\Local\\Temp\\ipykernel_16756\\3887107582.py:6: UserWarning: Implicit dimension choice for softmax has been deprecated. Change the call to include dim=X as an argument.\n",
      "  print(F.softmax(a))\n"
     ]
    }
   ],
   "source": [
    "B,T,C = 4,8,2 # batch, time, channels\n",
    "a = torch.tril(torch.ones((T,T)))\n",
    "a = a.masked_fill(a==0, float('-inf') )\n",
    "a = a.masked_fill(a==1, 0 )\n",
    "print(a,\"\\n\\n\")\n",
    "print(F.softmax(a))"
   ]
  },
  {
   "cell_type": "markdown",
   "id": "a10a4432",
   "metadata": {},
   "source": [
    "### Attention = softmax( Q*K / sqrt(d))\n",
    "- Q- query\n",
    "- k- key\n",
    "- d- dimension\n",
    "- division is done for normalization of softmax\n",
    "- softmax aggregates values to when extrem values occure"
   ]
  },
  {
   "cell_type": "code",
   "execution_count": 41,
   "id": "9a955e70",
   "metadata": {},
   "outputs": [
    {
     "name": "stderr",
     "output_type": "stream",
     "text": [
      "C:\\Users\\tasli\\AppData\\Local\\Temp\\ipykernel_16756\\1663405474.py:1: UserWarning: Implicit dimension choice for softmax has been deprecated. Change the call to include dim=X as an argument.\n",
      "  F.softmax(torch.Tensor([.1,.2,-.1,1,.5]))\n"
     ]
    },
    {
     "data": {
      "text/plain": [
       "tensor([0.1454, 0.1607, 0.1191, 0.3577, 0.2170])"
      ]
     },
     "execution_count": 41,
     "metadata": {},
     "output_type": "execute_result"
    }
   ],
   "source": [
    "F.softmax(torch.Tensor([.1,.2,-.1,1,.5]))"
   ]
  },
  {
   "cell_type": "code",
   "execution_count": 43,
   "id": "37a12d83",
   "metadata": {},
   "outputs": [
    {
     "name": "stderr",
     "output_type": "stream",
     "text": [
      "C:\\Users\\tasli\\AppData\\Local\\Temp\\ipykernel_16756\\1499388412.py:1: UserWarning: Implicit dimension choice for softmax has been deprecated. Change the call to include dim=X as an argument.\n",
      "  F.softmax(torch.Tensor([.1,.2,-.1,.5])*8)\n"
     ]
    },
    {
     "data": {
      "text/plain": [
       "tensor([0.0358, 0.0796, 0.0072, 0.8774])"
      ]
     },
     "execution_count": 43,
     "metadata": {},
     "output_type": "execute_result"
    }
   ],
   "source": [
    "F.softmax(torch.Tensor([.1,.2,-.1,.5])*8)"
   ]
  },
  {
   "cell_type": "markdown",
   "id": "2763e3ea",
   "metadata": {},
   "source": [
    "to avoid this aggregation to large value we normalise by dividing by sqrt(d)"
   ]
  },
  {
   "cell_type": "markdown",
   "id": "32b6cad8",
   "metadata": {},
   "source": [
    "Notes:\n",
    "- Attention is a **communication mechanism**. Can be seen as nodes in a directed graph looking at each other and aggregating information with a weighted sum from all nodes that point to them, with data-dependent weights.\n",
    "- There is no notion of space. Attention simply acts over a set of vectors. This is why we need to positionally encode tokens.\n",
    "- Each example across batch dimension is of course processed completely independently and never \"talk\" to each other\n",
    "- In an \"encoder\" attention block just delete the single line that does masking with `tril`, allowing all tokens to communicate. This block here is called a \"decoder\" attention block because it has triangular masking, and is usually used in autoregressive settings, like language modeling.\n",
    "- \"self-attention\" just means that the keys and values are produced from the same source as queries. In \"cross-attention\", the queries still get produced from x, but the keys and values come from some other, external source (e.g. an encoder module)\n",
    "- \"Scaled\" attention additional divides `wei` by 1/sqrt(head_size). This makes it so when input Q,K are unit variance, wei will be unit variance too and Softmax will stay diffuse and not saturate too much. Illustration below"
   ]
  },
  {
   "cell_type": "markdown",
   "id": "0d2fd4c7",
   "metadata": {},
   "source": [
    "## self attention head example"
   ]
  },
  {
   "cell_type": "code",
   "execution_count": 4,
   "id": "2e6e09b2",
   "metadata": {},
   "outputs": [
    {
     "name": "stderr",
     "output_type": "stream",
     "text": [
      "C:\\Users\\tasli\\AppData\\Local\\Programs\\Python\\Python311\\Lib\\site-packages\\torch\\cuda\\__init__.py:118: UserWarning: CUDA initialization: The NVIDIA driver on your system is too old (found version 11070). Please update your GPU driver by downloading and installing a new version from the URL: http://www.nvidia.com/Download/index.aspx Alternatively, go to: https://pytorch.org to install a PyTorch version that has been compiled with your version of the CUDA driver. (Triggered internally at ..\\c10\\cuda\\CUDAFunctions.cpp:108.)\n",
      "  return torch._C._cuda_getDeviceCount() > 0\n"
     ]
    },
    {
     "data": {
      "text/plain": [
       "<torch._C.Generator at 0x2732c571350>"
      ]
     },
     "execution_count": 4,
     "metadata": {},
     "output_type": "execute_result"
    }
   ],
   "source": [
    "import torch\n",
    "import torch.nn as nn\n",
    "from torch.nn import functional as F\n",
    "\n",
    "batch_size = 16\n",
    "block_size = 32\n",
    "max_iters = 5000\n",
    "eval_interval = 100\n",
    "lr= 1e-3\n",
    "device = 'cuda' if torch.cuda.is_available() else 'cpu'\n",
    "eval_iters = 200\n",
    "n_embd = 64\n",
    "n_head = 4\n",
    "n_layer = 4\n",
    "eval_iters = 200\n",
    "n_embd = 32\n",
    "dropout = 0.0\n",
    "torch.manual_seed(1337)\n",
    "\n"
   ]
  },
  {
   "cell_type": "code",
   "execution_count": 16,
   "id": "45d516da",
   "metadata": {},
   "outputs": [
    {
     "data": {
      "text/plain": [
       "'revived, and was an emperor.\\nAh '"
      ]
     },
     "execution_count": 16,
     "metadata": {},
     "output_type": "execute_result"
    }
   ],
   "source": [
    "with open('input.txt','r') as f:\n",
    "    text = f.read()\n",
    "\n",
    "chars = sorted(list(set(text)))\n",
    "vocab_size = len(chars)\n",
    "# create a mapping from characters to integers\n",
    "stoi = { ch:i for i,ch in enumerate(chars) }\n",
    "itos = { i:ch for i,ch in enumerate(chars) }\n",
    "encode = lambda s: [stoi[c] for c in s] # encoder: take a string, output a list of integers\n",
    "decode = lambda l: ''.join([itos[i] for i in l]) # decoder: take a list of integers, output a string\n",
    "\n",
    "# Train and test splits\n",
    "data = torch.tensor(encode(text), dtype=torch.long)\n",
    "n = int(0.9*len(data)) # first 90% will be train, rest val\n",
    "train_data = data[:n]\n",
    "val_data = data[n:]\n",
    "\n",
    "# data loading\n",
    "def get_batch(split):\n",
    "    # generate a small batch of data of inputs x and targets y\n",
    "    data = train_data if split == 'train' else val_data\n",
    "    ix = torch.randint(len(data) - block_size, (batch_size,))\n",
    "    x = torch.stack([data[i:i+block_size] for i in ix])\n",
    "    y = torch.stack([data[i+1:i+block_size+1] for i in ix])\n",
    "    # x, y = x.to(device), y.to(device)\n",
    "    return x, y\n",
    "\n",
    "decode(get_batch('train')[0][0].tolist())"
   ]
  },
  {
   "cell_type": "code",
   "execution_count": 54,
   "id": "6a4e3a62",
   "metadata": {},
   "outputs": [],
   "source": [
    "@torch.no_grad()\n",
    "def estimate_loss():\n",
    "    out = {}\n",
    "    model.eval()\n",
    "    for split in ['train', 'val']:\n",
    "        losses = torch.zeros(eval_iters)\n",
    "        for k in range(eval_iters):\n",
    "            X, y = get_batch(split)\n",
    "            logits, loss = model(X,y)\n",
    "            losses[k] = loss.item()\n",
    "        out[split] = losses.mean().item()\n",
    "    return out"
   ]
  },
  {
   "cell_type": "code",
   "execution_count": 61,
   "id": "83f1332b",
   "metadata": {},
   "outputs": [],
   "source": [
    "class Head(nn.Module):\n",
    "    \"\"\" one head of self-attention \"\"\"\n",
    "\n",
    "    def __init__(self, head_size):\n",
    "        super().__init__()\n",
    "        self.key = nn.Linear(n_embd, head_size, bias=False)\n",
    "        self.query = nn.Linear(n_embd, head_size, bias=False)\n",
    "        self.value = nn.Linear(n_embd, head_size, bias=False)\n",
    "        self.register_buffer('tril', torch.tril(torch.ones(block_size,block_size)))\n",
    "        \n",
    "        self.dropout = nn.Dropout(dropout)\n",
    "\n",
    "    def forward(self, x):\n",
    "        B,T,C = x.shape\n",
    "        k = self.key(x)   # (B,T,C)\n",
    "        q = self.query(x) # (B,T,C)\n",
    "        # compute attention scores (\"affinities\")\n",
    "        wei = q @ k.transpose(-2,-1) * C**-0.5 # (B, T, C) @ (B, C, T) -> (B, T, T)\n",
    "        wei = wei.masked_fill(self.tril[:T, :T] == 0, float('-inf')) # (B, T, T)\n",
    "        wei = F.softmax(wei, dim=-1) # (B, T, T)\n",
    "        wei = self.dropout(wei)\n",
    "        # perform the weighted aggregation of the values\n",
    "        v = self.value(x) # (B,T,C)\n",
    "        out = wei @ v # (B, T, T) @ (B, T, C) -> (B, T, C)\n",
    "        return out\n",
    "\n",
    "class MultiHeadAttention(nn.Module):\n",
    "    def __init__(self, num_heads, head_size):\n",
    "        super().__init__()\n",
    "        self.heads = nn.ModuleList([Head(head_size) for _ in range(num_heads)])\n",
    "        self.proj = nn.Linear(n_embd, n_embd)\n",
    "        self.dropout = nn.Dropout(dropout)\n",
    "\n",
    "    def forward(self, x):\n",
    "        out = torch.cat([h(x) for h in self.heads], dim=-1)\n",
    "        out = self.dropout(self.proj(out))\n",
    "        return out\n",
    "\n",
    "m = MultiHeadAttention(n_head, 4)"
   ]
  },
  {
   "cell_type": "code",
   "execution_count": 62,
   "id": "8eec4b5c",
   "metadata": {},
   "outputs": [],
   "source": [
    "    \n",
    "class FeedForward(nn.Module):\n",
    "    def __init__(self,n_embd):\n",
    "        super().__init__()\n",
    "        self.net = nn.Sequential(\n",
    "            nn.Linear(n_embd, 4*n_embd),\n",
    "            nn.ReLU(),\n",
    "            nn.Linear(4*n_embd,n_embd),\n",
    "            nn.Dropout(dropout)\n",
    "        )\n",
    "    def forward(self, x):\n",
    "        return self.net(x)\n",
    "\n",
    "class Block(nn.Module):\n",
    "\n",
    "    def __init__(self, n_embd, n_head):\n",
    "         # n_embd: embedding dimension, n_head: the number of heads we'd like\n",
    "        super().__init__()\n",
    "        head_size = n_embd//n_head\n",
    "        self.sa = MultiHeadAttention(n_head, head_size) # sa stands for self attention\n",
    "        self.ffwd = FeedForward(n_embd)\n",
    "        self.ln1 = nn.LayerNorm(n_embd)\n",
    "        self.ln2 = nn.LayerNorm(n_embd)\n",
    "     \n",
    "    def forward(self,x):\n",
    "        x = x+ self.sa(self.ln1(x)) #actually we aare giving a direct connection with the result to \n",
    "        x = x + self.ffwd(self.ln2(x))\n",
    "        return x\n",
    "    \n",
    "b = Block(n_embd, n_head)"
   ]
  },
  {
   "cell_type": "code",
   "execution_count": 65,
   "id": "ba15e1d6",
   "metadata": {},
   "outputs": [
    {
     "name": "stdout",
     "output_type": "stream",
     "text": [
      "0.055745 M parameters\n"
     ]
    }
   ],
   "source": [
    "class BigramLanguageModel(nn.Module):\n",
    "\n",
    "    def __init__(self):\n",
    "        super().__init__()\n",
    "        # each token directly reads off the logits for the next token from a lookup table\n",
    "        self.token_embedding_table = nn.Embedding(vocab_size, n_embd)\n",
    "        self.position_embedding_table = nn.Embedding(block_size, n_embd)\n",
    "        self.blocks = nn.Sequential(*[Block(n_embd, n_head) for _ in range(n_layer)])\n",
    "        self.ln_f = nn.LayerNorm(n_embd)\n",
    "        self.lm_head = nn.Linear(n_embd, vocab_size)\n",
    "\n",
    "    def forward(self,idx,targets=None):\n",
    "        B,T = idx.shape\n",
    "        # idx and targets are both (B,T) tensor of integers\n",
    "        tok_emb = self.token_embedding_table(idx) #(B,T,C)\n",
    "        pos_emb = self.position_embedding_table(torch.arange(T, device=idx.device)) # (T,C)\n",
    "        x = tok_emb + pos_emb # (B,T,C)\n",
    "        x = self.blocks(x)\n",
    "        x = self.ln_f(x)\n",
    "        logits = self.lm_head(x) # (B,T,Vocab_size)\n",
    "\n",
    "        if targets is None:\n",
    "            loss = None\n",
    "        else:\n",
    "            B,T,C = logits.shape\n",
    "            logits = logits.view(B*T,C)\n",
    "            targets = targets.view(B*T)\n",
    "            loss  = F.cross_entropy(logits, targets)\n",
    "        \n",
    "        return logits, loss\n",
    "\n",
    "    def generate(self, idx, max_new_tokens):\n",
    "        # idx is (B, T) array of indices in the current context\n",
    "        for _ in range(max_new_tokens):\n",
    "            # crop idx to the last block_size tokens\n",
    "            idx_cond = idx[:, -block_size:]\n",
    "            # get the predictions\n",
    "            logits, loss = self(idx_cond)\n",
    "            # focus only on the last time step\n",
    "            logits = logits[:, -1, :] # becomes (B, C)\n",
    "            # apply softmax to get probabilities\n",
    "            probs = F.softmax(logits, dim=-1) # (B, C)\n",
    "            # sample from the distribution\n",
    "            idx_next = torch.multinomial(probs, num_samples=1) # (B, 1)\n",
    "            # append sampled index to the running sequence\n",
    "            idx = torch.cat((idx, idx_next), dim=1) # (B, T+1)\n",
    "        return idx\n",
    "model = BigramLanguageModel()\n",
    "m = model.to(device)\n",
    "# print the number of parameters in the model\n",
    "print(sum(p.numel() for p in m.parameters())/1e6, 'M parameters')\n"
   ]
  },
  {
   "cell_type": "code",
   "execution_count": 66,
   "id": "ce0b2318",
   "metadata": {},
   "outputs": [
    {
     "name": "stdout",
     "output_type": "stream",
     "text": [
      "step 0: train loss 4.3764, val loss 4.3753\n",
      "step 100: train loss 3.0383, val loss 3.0575\n",
      "step 200: train loss 2.6939, val loss 2.6879\n",
      "step 300: train loss 2.5844, val loss 2.5859\n",
      "step 400: train loss 2.5240, val loss 2.5256\n",
      "step 500: train loss 2.4772, val loss 2.4770\n",
      "step 600: train loss 2.4278, val loss 2.4408\n",
      "step 700: train loss 2.4087, val loss 2.4077\n",
      "step 800: train loss 2.3707, val loss 2.3839\n",
      "step 900: train loss 2.3348, val loss 2.3408\n",
      "step 1000: train loss 2.3171, val loss 2.3227\n",
      "step 1100: train loss 2.2898, val loss 2.3018\n",
      "step 1200: train loss 2.2750, val loss 2.2848\n",
      "step 1300: train loss 2.2454, val loss 2.2532\n",
      "step 1400: train loss 2.2344, val loss 2.2376\n",
      "step 1500: train loss 2.2230, val loss 2.2399\n",
      "step 1600: train loss 2.1887, val loss 2.2175\n",
      "step 1700: train loss 2.1908, val loss 2.2159\n",
      "step 1800: train loss 2.1723, val loss 2.1909\n",
      "step 1900: train loss 2.1550, val loss 2.1832\n",
      "step 2000: train loss 2.1440, val loss 2.1637\n",
      "step 2100: train loss 2.1301, val loss 2.1659\n",
      "step 2200: train loss 2.1132, val loss 2.1435\n",
      "step 2300: train loss 2.1008, val loss 2.1556\n",
      "step 2400: train loss 2.0939, val loss 2.1260\n",
      "step 2500: train loss 2.0862, val loss 2.1184\n",
      "step 2600: train loss 2.0886, val loss 2.1211\n",
      "step 2700: train loss 2.0528, val loss 2.1019\n",
      "step 2800: train loss 2.0492, val loss 2.0976\n",
      "step 2900: train loss 2.0490, val loss 2.0951\n",
      "step 3000: train loss 2.0360, val loss 2.0963\n",
      "step 3100: train loss 2.0329, val loss 2.0803\n",
      "step 3200: train loss 2.0146, val loss 2.0867\n",
      "step 3300: train loss 2.0046, val loss 2.0890\n",
      "step 3400: train loss 1.9980, val loss 2.0765\n",
      "step 3500: train loss 1.9958, val loss 2.0664\n",
      "step 3600: train loss 1.9892, val loss 2.0690\n",
      "step 3700: train loss 1.9700, val loss 2.0564\n",
      "step 3800: train loss 1.9834, val loss 2.0443\n",
      "step 3900: train loss 1.9615, val loss 2.0488\n",
      "step 4000: train loss 1.9522, val loss 2.0421\n",
      "step 4100: train loss 1.9411, val loss 2.0414\n",
      "step 4200: train loss 1.9343, val loss 2.0281\n",
      "step 4300: train loss 1.9264, val loss 2.0202\n",
      "step 4400: train loss 1.9320, val loss 2.0405\n",
      "step 4500: train loss 1.9223, val loss 2.0278\n",
      "step 4600: train loss 1.9121, val loss 2.0227\n",
      "step 4700: train loss 1.9191, val loss 2.0176\n",
      "step 4800: train loss 1.9033, val loss 2.0160\n",
      "step 4900: train loss 1.9014, val loss 2.0236\n",
      "step 4999: train loss 1.8876, val loss 2.0069\n"
     ]
    }
   ],
   "source": [
    "\n",
    "\n",
    "\n",
    "optimizer = torch.optim.AdamW(model.parameters(), lr=lr)\n",
    "\n",
    "for iter in range(max_iters):\n",
    "    if iter%eval_interval==0 or iter ==max_iters-1:\n",
    "        losses = estimate_loss()\n",
    "        print(f\"step {iter}: train loss {losses['train']:.4f}, val loss {losses['val']:.4f}\")\n",
    "    \n",
    "    xb, yb = get_batch(\"train\")\n",
    "\n",
    "    logits, loss = m(xb,yb)\n",
    "    optimizer.zero_grad(set_to_none=True)\n",
    "    loss.backward()\n",
    "    optimizer.step()\n"
   ]
  },
  {
   "cell_type": "code",
   "execution_count": 69,
   "id": "b51437fe",
   "metadata": {},
   "outputs": [
    {
     "name": "stdout",
     "output_type": "stream",
     "text": [
      "\n",
      "He thard sory a way grean no is him.\n",
      "\n",
      "BEUTIOLA:\n",
      "You all wareath, thenercedd,\n",
      "Con. wels I my lood:\n",
      "Pery, alandiobly\n",
      "Wils, be jotck che endowen: of gome thelst and tickes a scerelfs.\n",
      "\n",
      "COF YORK PUTHER:\n",
      "This bauct do and have besen than 'ou my,\n",
      "Ip fard Kown he ladied to do tredas?\n",
      "\n",
      "Ficer Ray-tabliete geverts,\n",
      "Is hath the of juckess the belod:\n",
      "Haply goen to poor.\n",
      "\n",
      "MANINUS:\n",
      "Give you Hourrders this eserar?\n",
      "Haved us any min sirre comblester.\n",
      "\n",
      "DUSTARMUNI:\n",
      "Fello, stall Edpok Ramos, in is hee geratoue,\n",
      "A ofoxedine him with good be he.\n",
      "\n",
      "DUCKINGHAS, mare not therer mad hopt yeveor bech dabrie,\n",
      "I to not call let this ans is the bladik\n",
      "boid diss pist am, is ust maire the hat Edtherd.\n",
      "\n",
      "CAGLUD RISCKhat. I mirrre bratintced leasser's of my loreds.\n",
      "I laster but safbrat, sp goee good with.\n",
      "\n",
      "Then atte, some.\n",
      "\n",
      "QSow To as thee, Wit sheald ned a resont; in him\n",
      "I hir had belared fort bauged pait jupor be not, ic and lean-\n",
      "Dingeance worlow kinary?\n",
      "Agp, ninghiond that of connott you.\n",
      "\n",
      "Sir, is goar bestare beamster?\n",
      "\n",
      "\n",
      "VUK:\n",
      "Ke me.\n",
      "\n",
      "ISABELA:\n",
      "Why, yet kints spucenger.\n",
      "\n",
      "Goodsn:\n",
      "Dre:\n",
      "Butht bey gooks ins in wacon\n",
      "To I deacht lied necly aretith it of thou know the nown behow as wo,\n",
      "Kon say most do hence with this wold a but of and of is,Ka, on cow.\n",
      "Were's next creling this said had sot do arthilds;\n",
      "Wot the pearstly thou in bawind demlow gairid,\n",
      "Not mme, his hundourm, my pareat him way his a.\n",
      "\n",
      "ICABES:\n",
      "No was are do bled you.\n",
      "\n",
      "RATIANIUS:\n",
      "Whim this not to\n",
      "arth sombey sak newt teselp not men,\n",
      "And the mad ot wele and afathin,\n",
      "Best nince telfund a than ofor I:\n",
      "Powflard? somesp of whice You so chath her laded?\n",
      "\n",
      "GAMURYCUS:\n",
      "Awle:\n",
      "Nar, shing his, lighs and veryw with then theld,\n",
      "The I us hort\n",
      "Mord, holt end is his this reasble,\n",
      "Foage detthon mer? than, Dad I slot ofolded of boindg?\n",
      "\n",
      "ROLIV:\n",
      "\n",
      "This lof!\n",
      "\n",
      "YORKEL AATIO:\n",
      "Why? Fom it spave theer;\n",
      "Trad to do hefe dep, kind. Buterictary? thous bowered timpt I doght? Tich'd!\n",
      "\n",
      "SEDSTOLKE:\n",
      "I that my lattt swend,\n",
      "That stand of and this and a theath,\n",
      "Welles:\n",
      "I you bunre\n",
      "sthi\n"
     ]
    }
   ],
   "source": [
    "context = torch.zeros((1,1), dtype=torch.long, device=device)\n",
    "print(decode(m.generate(context, max_new_tokens=2000)[0].tolist()))"
   ]
  }
 ],
 "metadata": {
  "kernelspec": {
   "display_name": "Python 3 (ipykernel)",
   "language": "python",
   "name": "python3"
  },
  "language_info": {
   "codemirror_mode": {
    "name": "ipython",
    "version": 3
   },
   "file_extension": ".py",
   "mimetype": "text/x-python",
   "name": "python",
   "nbconvert_exporter": "python",
   "pygments_lexer": "ipython3",
   "version": "3.11.3"
  }
 },
 "nbformat": 4,
 "nbformat_minor": 5
}
